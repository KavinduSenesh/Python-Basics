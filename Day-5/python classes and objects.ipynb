{
 "cells": [
  {
   "cell_type": "code",
   "execution_count": null,
   "metadata": {},
   "outputs": [],
   "source": [
    "class Car:\n",
    "    category = 'automobile'\n",
    "\n",
    "    #def means a function or method\n",
    "    def display(self):\n",
    "        print('This is a car')\n",
    "\n",
    "new_car = Car()\n",
    "new_car.display()\n",
    "print(new_car.category)\n",
    "print(Car.category)"
   ]
  }
 ],
 "metadata": {
  "language_info": {
   "name": "python"
  }
 },
 "nbformat": 4,
 "nbformat_minor": 2
}
