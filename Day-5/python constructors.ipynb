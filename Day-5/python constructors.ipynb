{
 "cells": [
  {
   "cell_type": "code",
   "execution_count": 1,
   "metadata": {},
   "outputs": [
    {
     "name": "stdout",
     "output_type": "stream",
     "text": [
      "Toyota\n",
      "Coralla\n",
      "2019\n"
     ]
    }
   ],
   "source": [
    "#constructor - __init__ method(used to assign values to object properties)\n",
    "\n",
    "class Car:\n",
    "    category = \"Vehicle\"\n",
    "\n",
    "    def __init__(self, make, model, year):\n",
    "        self.make = make\n",
    "        self.model = model\n",
    "        self.year = year\n",
    "\n",
    "new_car = Car('Toyota', 'Coralla', 2019)\n",
    "print(new_car.make)\n",
    "print(new_car.model)\n",
    "print(new_car.year)"
   ]
  },
  {
   "cell_type": "markdown",
   "metadata": {},
   "source": [
    "'''Write a method class display() which display only the instance attributes. \n",
    " update() method need to have the ability to update the instance attributes. '''"
   ]
  },
  {
   "cell_type": "code",
   "execution_count": 3,
   "metadata": {},
   "outputs": [
    {
     "name": "stdout",
     "output_type": "stream",
     "text": [
      "Manufacturer: Toyota\n",
      "modelel: Coralla\n",
      "year: 2019\n",
      "Manufacturer: Honda\n",
      "modelel: Civic\n",
      "year: 2018\n"
     ]
    }
   ],
   "source": [
    "class Car:\n",
    "    def __init__(self, manufacturer, model, year):\n",
    "        self.manufacturer = manufacturer\n",
    "        self.model = model\n",
    "        self.year = year\n",
    "    \n",
    "    def display(self):\n",
    "        print('Manufacturer:', self.manufacturer)\n",
    "        print('modelel:', self.model)\n",
    "        print('year:', self.year)\n",
    "\n",
    "    def update(self, manufacturer, model, year):\n",
    "        self.manufacturer = manufacturer\n",
    "        self.model = model\n",
    "        self.year = year\n",
    "\n",
    "new_car = Car('Toyota', 'Coralla', 2019)\n",
    "new_car.display()\n",
    "new_car.update('Honda', 'Civic', 2018)\n",
    "new_car.display()\n",
    "        "
   ]
  },
  {
   "cell_type": "markdown",
   "metadata": {},
   "source": [
    "''' Write a python program to define and use a class representing a bank account.\n",
    "\n",
    "1. Create a class named BankAccount with the following\n",
    "    - An attribute account_holder to store the name of the account holder\n",
    "    - An attribute balance to store the account balance inilized to 0\n",
    "\n",
    "2. Add following methods to the class\n",
    "    - deposit(amount) - to add the amount to the balance\n",
    "    - withdraw(amount) - to substract the amount from the balance if sufficient funds exists\n",
    "    - display_balance() - to display the account holder name and balance\n",
    "\n",
    "3. Write a small script to demonstrate followings.\n",
    "    - Create an object of the class BankAccount class\n",
    "    - Perform few deposits and withdrawals\n",
    "    - Display the balance after each opration"
   ]
  },
  {
   "cell_type": "code",
   "execution_count": 7,
   "metadata": {},
   "outputs": [
    {
     "name": "stdout",
     "output_type": "stream",
     "text": [
      "Account Holder: John Doe\n",
      "Account Balance: 0\n",
      "\n",
      "Account Holder: John Doe\n",
      "Account Balance: 1000\n",
      "\n",
      "Account Holder: John Doe\n",
      "Account Balance: 500\n",
      "\n",
      "Invalid amount\n",
      "Account Holder: John Doe\n",
      "Account Balance: 500\n"
     ]
    }
   ],
   "source": [
    "class BankAccount:\n",
    "    def __init__(self, account_holder):\n",
    "        self.account_holder = account_holder\n",
    "        self.account_balance = 0\n",
    "\n",
    "    def deposit(self, amount):\n",
    "        if amount >= 0:\n",
    "            self.account_balance += amount\n",
    "        else:\n",
    "            print('Invalid amount')\n",
    "\n",
    "    def withdraw(self, amount):\n",
    "        if amount >= 0 and amount <= self.account_balance:\n",
    "            self.account_balance -= amount\n",
    "        else:\n",
    "            print('Invalid amount')\n",
    "\n",
    "    def display_balance(self):\n",
    "        print('Account Holder:', self.account_holder)\n",
    "        print('Account Balance:', self.account_balance)\n",
    "\n",
    "account = BankAccount('John Doe')\n",
    "account.display_balance()\n",
    "print()\n",
    "account.deposit(1000)\n",
    "account.display_balance()\n",
    "print()\n",
    "account.withdraw(500)\n",
    "account.display_balance()\n",
    "print()\n",
    "account.withdraw(600)\n",
    "account.display_balance()\n",
    "            "
   ]
  }
 ],
 "metadata": {
  "kernelspec": {
   "display_name": "Python 3",
   "language": "python",
   "name": "python3"
  },
  "language_info": {
   "codemirror_mode": {
    "name": "ipython",
    "version": 3
   },
   "file_extension": ".py",
   "mimetype": "text/x-python",
   "name": "python",
   "nbconvert_exporter": "python",
   "pygments_lexer": "ipython3",
   "version": "3.13.0"
  }
 },
 "nbformat": 4,
 "nbformat_minor": 2
}
