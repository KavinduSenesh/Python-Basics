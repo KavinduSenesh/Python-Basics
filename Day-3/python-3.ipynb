{
 "cells": [
  {
   "cell_type": "code",
   "execution_count": null,
   "metadata": {},
   "outputs": [],
   "source": [
    "x = input(\"response code:\")\n",
    "x = int(x)\n",
    "\n",
    "match x:\n",
    "    case 200:\n",
    "        print(\"OK\")\n",
    "    case 201:\n",
    "        print(\"Created\")\n",
    "    case 404:\n",
    "        print(\"404 Not Found\")\n",
    "    case 500:\n",
    "        print(\"Internal server Error\")\n",
    "    case _:\n",
    "        print(\"something else\")"
   ]
  },
  {
   "cell_type": "code",
   "execution_count": null,
   "metadata": {},
   "outputs": [],
   "source": [
    "numbers = [4,3,7]\n",
    "\n",
    "match numbers:\n",
    "    case[x, y]:\n",
    "        print(x*y)\n",
    "    case[x, y, z]:\n",
    "        print(x*y*z)\n",
    "    case _:\n",
    "        print(\"Something else\")"
   ]
  },
  {
   "cell_type": "code",
   "execution_count": null,
   "metadata": {},
   "outputs": [],
   "source": [
    "x = input(\"length:\")\n",
    "\n",
    "match x:\n",
    "    case \"empty\":\n",
    "        print(\"Empty\")\n",
    "    case \"1\":\n",
    "        print(\"Has one element\")\n",
    "    case \"2\":\n",
    "        print(\"Has two elements\")\n",
    "    case _:\n",
    "        print(\"Has more than two elements\")\n"
   ]
  },
  {
   "cell_type": "code",
   "execution_count": null,
   "metadata": {},
   "outputs": [],
   "source": [
    "numbers = [4,3,7]\n",
    "\n",
    "match numbers:\n",
    "    case []:\n",
    "        print(\"Empty\")\n",
    "    case [x]:\n",
    "        print(\"Has one element\")\n",
    "    case [x,y]:\n",
    "        print(\"Has two elements\")\n",
    "    case [x,y,z]:\n",
    "        print(\"Has more than two elements\")\n",
    "    case _:\n",
    "        print(\"Something else\")"
   ]
  },
  {
   "cell_type": "markdown",
   "metadata": {},
   "source": [
    "#for item in sequence:\n",
    "#sequence - list, tuple, string, dictionary, set"
   ]
  },
  {
   "cell_type": "code",
   "execution_count": null,
   "metadata": {},
   "outputs": [],
   "source": [
    "fruits = [\"apple\", \"banana\", \"orange\"]\n",
    "\n",
    "for fruit in fruits:\n",
    "    print(fruit)"
   ]
  },
  {
   "cell_type": "code",
   "execution_count": null,
   "metadata": {},
   "outputs": [],
   "source": [
    "numbers = [7,5,8,4,9,12]\n",
    "new = []\n",
    "\n",
    "for number in numbers:\n",
    "    new.append(number**2)\n",
    "\n",
    "print(new)"
   ]
  },
  {
   "cell_type": "code",
   "execution_count": null,
   "metadata": {},
   "outputs": [],
   "source": [
    "user_input = input(\"Enter a number:\")\n",
    "user_input = int(user_input)\n",
    "new = []\n",
    "\n",
    "for number in range(1, user_input+1):\n",
    "    new.append(number**2)\n",
    "print(new)  \n"
   ]
  },
  {
   "cell_type": "code",
   "execution_count": null,
   "metadata": {},
   "outputs": [],
   "source": [
    "numbers = [7,5,8,4,9,12]\n",
    "\n",
    "result = [number**2 for number in numbers]\n",
    "\n",
    "print(result)\n",
    "\n",
    "# Original List: numbers = [7, 5, 8, 4, 9, 12]\n",
    "# List Comprehension: [number**2 for number in numbers]\n",
    "# number**2 is the expression that computes the square of each number.\n",
    "# for number in numbers iterates over each element in the numbers list.\n",
    "# Result: The result list contains the squares of the numbers in the original list.\n",
    "# List comprehensions are a powerful feature in Python that can make your code more readable and concise.\n"
   ]
  },
  {
   "cell_type": "code",
   "execution_count": null,
   "metadata": {},
   "outputs": [],
   "source": [
    "numbers = [8,12,-1,5,4,0,-3]\n",
    "\n",
    "result = [number**2 for number in numbers if number >= 0]\n",
    "\n",
    "print(result)"
   ]
  },
  {
   "cell_type": "markdown",
   "metadata": {},
   "source": [
    "while condition:\n",
    "#the while repeatedly executes a block of statements as long as a condition is true."
   ]
  },
  {
   "cell_type": "code",
   "execution_count": 11,
   "metadata": {},
   "outputs": [
    {
     "name": "stdout",
     "output_type": "stream",
     "text": [
      "[1, 4]\n"
     ]
    }
   ],
   "source": [
    "user_input = input(\"input:\")\n",
    "user_input = int(user_input)\n",
    "new = []\n",
    "\n",
    "while user_input > 0:\n",
    "    if (user_input ** 0.5) % 1 == 0:\n",
    "        new.append(user_input)\n",
    "    user_input -= 1 \n",
    "\n",
    "new.reverse()\n",
    "print(new)"
   ]
  },
  {
   "cell_type": "code",
   "execution_count": 12,
   "metadata": {},
   "outputs": [
    {
     "name": "stdout",
     "output_type": "stream",
     "text": [
      "8\n",
      "9\n",
      "3\n"
     ]
    }
   ],
   "source": [
    "my_list = [8,9,3,0,12,15]\n",
    "\n",
    "#break keywork work in both for and while loop\n",
    "for item in my_list:\n",
    "    if item == 0:\n",
    "        break\n",
    "    else:\n",
    "        print(item)"
   ]
  },
  {
   "cell_type": "code",
   "execution_count": 13,
   "metadata": {},
   "outputs": [
    {
     "name": "stdout",
     "output_type": "stream",
     "text": [
      "8\n",
      "9\n",
      "3\n",
      "12\n",
      "15\n"
     ]
    }
   ],
   "source": [
    "for item in my_list:\n",
    "    if item == 0:\n",
    "        continue\n",
    "    else:\n",
    "        print(item)"
   ]
  },
  {
   "cell_type": "code",
   "execution_count": null,
   "metadata": {},
   "outputs": [
    {
     "name": "stdout",
     "output_type": "stream",
     "text": [
      "name Alice\n",
      "age 25\n",
      "city New York\n"
     ]
    }
   ],
   "source": [
    "person = {\n",
    "    \"name\": \"Alice\",\n",
    "    \"age\": 25,\n",
    "    \"city\": \"New York\"\n",
    "}\n",
    "\n",
    "for key, value in person.items():\n",
    "    print(key, value)\n",
    "\n",
    "#for key in person.keys():\n",
    "#    print(key)\n",
    "#for value in person.values():\n",
    "#    print(value)"
   ]
  },
  {
   "cell_type": "markdown",
   "metadata": {},
   "source": [
    "Functions & Functional programming"
   ]
  },
  {
   "cell_type": "code",
   "execution_count": 58,
   "metadata": {},
   "outputs": [
    {
     "name": "stdout",
     "output_type": "stream",
     "text": [
      "90\n"
     ]
    }
   ],
   "source": [
    "# Parameters are used in the function definition.\n",
    "# Arguments are used in the function call.\n",
    "\n",
    "def calculate_peremetere(height, width):\n",
    "    return 2 * (height + width)\n",
    "\n",
    "result = calculate_peremetere(20, 25)\n",
    "print(result)"
   ]
  },
  {
   "cell_type": "code",
   "execution_count": 62,
   "metadata": {},
   "outputs": [
    {
     "name": "stdout",
     "output_type": "stream",
     "text": [
      "314.0\n"
     ]
    }
   ],
   "source": [
    "pi_value = 3.14\n",
    "\n",
    "def calculate_area(radius):\n",
    "    return pi_value*(radius**2)\n",
    "\n",
    "result = calculate_area(10)\n",
    "print(result)"
   ]
  },
  {
   "cell_type": "markdown",
   "metadata": {},
   "source": [
    "Default argument\n",
    "\n",
    "def add_numbers(a,#default argument b=5)\n",
    "    return a + b\n",
    "\n",
    "print(add_numbers(3)) -> 8\n",
    "\n",
    "print(add_numbers(3, 6)) -> 9\n",
    "\n",
    "#if there is default arguments, all the arguments to its right must also have default values."
   ]
  },
  {
   "cell_type": "code",
   "execution_count": null,
   "metadata": {},
   "outputs": [
    {
     "name": "stdout",
     "output_type": "stream",
     "text": [
      "8\n",
      "9\n"
     ]
    }
   ],
   "source": [
    "def add_numbers(a, b=5):\n",
    "    return a + b\n",
    "\n",
    "print(add_numbers(3)) \n",
    "\n",
    "print(add_numbers(3, 6))\n"
   ]
  },
  {
   "cell_type": "markdown",
   "metadata": {},
   "source": [
    "Positional arguments\n",
    "\n",
    "def add_numbers(a, b):\n",
    "    return a + b\n",
    "\n",
    "print(add_numbers(3, 6)) -> 9\n",
    "\n",
    "#values are assigned to the arguments based on their position."
   ]
  },
  {
   "cell_type": "code",
   "execution_count": 65,
   "metadata": {},
   "outputs": [
    {
     "name": "stdout",
     "output_type": "stream",
     "text": [
      "9\n"
     ]
    }
   ],
   "source": [
    "def add_numbers(a, b):\n",
    "    return a + b\n",
    "\n",
    "print(add_numbers(3, 6)) "
   ]
  },
  {
   "cell_type": "markdown",
   "metadata": {},
   "source": [
    "Keyword arguments\n",
    "\n",
    "def add_numbers(a, b):\n",
    "    return a + b\n",
    "\n",
    "print(add_numbers(b=3, a=6)) -> 9"
   ]
  },
  {
   "cell_type": "code",
   "execution_count": 66,
   "metadata": {},
   "outputs": [
    {
     "name": "stdout",
     "output_type": "stream",
     "text": [
      "9\n"
     ]
    }
   ],
   "source": [
    "def add_numbers(a, b):\n",
    "    return a + b\n",
    "\n",
    "print(add_numbers(b=3, a=6))"
   ]
  },
  {
   "cell_type": "code",
   "execution_count": null,
   "metadata": {},
   "outputs": [
    {
     "name": "stdout",
     "output_type": "stream",
     "text": [
      "3230.766\n",
      "3108\n"
     ]
    }
   ],
   "source": [
    "\n",
    "\n",
    "def calculate_cost(price, quantity, discount=0, tax=0):\n",
    "\n",
    "    total_price = price * quantity\n",
    "    discount_amount = total_price * discount\n",
    "    tax_amount = (total_price - discount_amount) * tax\n",
    "    cost = (total_price - discount_amount) + tax_amount\n",
    "    return cost\n",
    "\n",
    "print(calculate_cost(42, 74, 0.01, 0.05))\n",
    "print(calculate_cost(42,74))"
   ]
  },
  {
   "cell_type": "markdown",
   "metadata": {},
   "source": [
    "#Strings\n",
    "\n",
    "we can use double qoutes or single qoutes to represent strings."
   ]
  },
  {
   "cell_type": "code",
   "execution_count": 77,
   "metadata": {},
   "outputs": [
    {
     "name": "stdout",
     "output_type": "stream",
     "text": [
      "I love computer programming,\n",
      "i am student of ijse,\n",
      "i live in galle.\n"
     ]
    },
    {
     "data": {
      "text/plain": [
       "\"\\nmy_str = '''I love computer programming,\\ni am student of ijse,\\ni live in galle.\\n\""
      ]
     },
     "execution_count": 77,
     "metadata": {},
     "output_type": "execute_result"
    }
   ],
   "source": [
    "my_str = '''I love computer programming,\n",
    "i am student of ijse,\n",
    "i live in galle.'''\n",
    "\n",
    "print(my_str)\n",
    "\n",
    "\"\"\"\n",
    "my_str = '''I love computer programming,\n",
    "i am student of ijse,\n",
    "i live in galle.\n",
    "\"\"\"\n"
   ]
  },
  {
   "cell_type": "code",
   "execution_count": null,
   "metadata": {},
   "outputs": [
    {
     "name": "stdout",
     "output_type": "stream",
     "text": [
      "11\n",
      "o\n",
      "llo wo\n"
     ]
    }
   ],
   "source": [
    "my_str = \"Hello world\"\n",
    "print(len(my_str))\n",
    "\n",
    "print(my_str[4])\n",
    "\n",
    "print(my_str)"
   ]
  },
  {
   "cell_type": "code",
   "execution_count": null,
   "metadata": {},
   "outputs": [
    {
     "name": "stdout",
     "output_type": "stream",
     "text": [
      "HELLO WORLD\n",
      "hello world\n"
     ]
    }
   ],
   "source": [
    "my_str = \"Hello world\"\n",
    " \n",
    "print(my_str.upper())\n",
    "print(my_str.lower())"
   ]
  },
  {
   "cell_type": "code",
   "execution_count": null,
   "metadata": {},
   "outputs": [
    {
     "name": "stdout",
     "output_type": "stream",
     "text": [
      "              Hello world             \n",
      "Hello world\n"
     ]
    }
   ],
   "source": [
    "my_str = \"              Hello world             \"\n",
    "print(my_str)\n",
    "\n",
    "#remove whitespaces\n",
    "print(my_str.strip())\n"
   ]
  }
 ],
 "metadata": {
  "kernelspec": {
   "display_name": "Python 3",
   "language": "python",
   "name": "python3"
  },
  "language_info": {
   "codemirror_mode": {
    "name": "ipython",
    "version": 3
   },
   "file_extension": ".py",
   "mimetype": "text/x-python",
   "name": "python",
   "nbconvert_exporter": "python",
   "pygments_lexer": "ipython3",
   "version": "3.13.0"
  }
 },
 "nbformat": 4,
 "nbformat_minor": 2
}
