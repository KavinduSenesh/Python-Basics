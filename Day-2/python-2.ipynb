{
 "cells": [
  {
   "cell_type": "code",
   "execution_count": null,
   "metadata": {},
   "outputs": [],
   "source": [
    "my_tuple = (10, 20, 30, \"Call\", 50, True);\n",
    "print(my_tuple)\n",
    "#my_tuple[1] = \"Dog\" #Error: tuple object does not support item assignment\n",
    "print(len(my_tuple))\n",
    "\n",
    "print(type(my_tuple))\n",
    "\n",
    "#negative indexing also works in tuple\n",
    "my_tuple[-2]"
   ]
  },
  {
   "cell_type": "code",
   "execution_count": null,
   "metadata": {},
   "outputs": [],
   "source": [
    "#slicing also works in tuple\n",
    "my_tuple_1 = (8)\n",
    "print(type(my_tuple_1))\n",
    "\n",
    "#To create a tuple with single element, we need to add a comma after the element\n",
    "#otherwise it will be considered as a string or integer\n",
    "my_tuple_2 = (8,)\n",
    "print(type(my_tuple_2))"
   ]
  },
  {
   "cell_type": "code",
   "execution_count": null,
   "metadata": {},
   "outputs": [],
   "source": [
    "my_tuple_1 = (10, 20, 30, 40, 50)\n",
    "print(my_tuple_1[1:3])\n",
    "\n",
    "#List to tuple using list constructor\n",
    "my_list_1 = list(my_tuple_1)\n",
    "\n",
    "my_list_1[4] = 15\n",
    "\n",
    "#Tuple to list using tuple constructor\n",
    "my_tuple_2 = tuple(my_list_1)\n",
    "print(my_tuple_2)"
   ]
  },
  {
   "cell_type": "code",
   "execution_count": null,
   "metadata": {},
   "outputs": [],
   "source": [
    "my_tuple_1 = ((1,3,2), (\"apple\", \"banana\", \"orange\"), (True, False))\n",
    "\n",
    "print(my_tuple_1[1][1])\n",
    "print(my_tuple_1[2][1])\n",
    "\n"
   ]
  },
  {
   "cell_type": "code",
   "execution_count": null,
   "metadata": {},
   "outputs": [],
   "source": [
    "range_1 = range(1, 11, 2)\n",
    "print(type(range_1))\n",
    "\n",
    "print(range_1[1])\n",
    "\n",
    "print(len(range_1))\n",
    "\n",
    "print(list(range_1))"
   ]
  },
  {
   "cell_type": "code",
   "execution_count": null,
   "metadata": {},
   "outputs": [],
   "source": [
    "my_dict = {\n",
    "    \"name\": \"Suger\",\n",
    "    \"price\": 250.20,\n",
    "    \"weight\": \"1.5kg\",\n",
    "    #this price will replace the previous name\n",
    "    #because dictionary does not allow duplicate keys\n",
    "    \"price\": 270.00\n",
    "}\n",
    "\n",
    "print(type(my_dict))\n",
    "print(my_dict)\n",
    "#python dictionary does not allow duplicate keys"
   ]
  },
  {
   "cell_type": "code",
   "execution_count": null,
   "metadata": {},
   "outputs": [],
   "source": [
    "my_dict = {\n",
    "    \"name\": \"Suger\",\n",
    "    \"price\": 270.20,\n",
    "    \"weight\": \"1kg\",\n",
    "}\n",
    "\n",
    "#Accessing the value using key\n",
    "print(my_dict[\"price\"])\n",
    "\n",
    "#Changing the value using key\n",
    "my_dict[\"price\"] = 250.00\n",
    "print(my_dict[\"price\"])\n",
    "\n",
    "print(my_dict.get(\"price\"))\n",
    "\n",
    "print(my_dict.get(\"expire date\"))\n",
    "\n",
    "#my_dict.get(key, default value)\n",
    "print(my_dict.get(\"expire date\", \"2022.10.25\"))\n",
    "# print(my_dict)\n",
    "\n",
    "#updating the dictionary\n",
    "my_dict.update({\n",
    "    \"price\": 290.00,\n",
    "    \"weight\": \"2kg\"\n",
    "})\n",
    "\n",
    "print(my_dict)\n",
    "\n",
    "#Adding new key value pair\n",
    "my_dict[\"colour\"] = \"white\"\n",
    "print(my_dict)\n"
   ]
  },
  {
   "cell_type": "code",
   "execution_count": null,
   "metadata": {},
   "outputs": [],
   "source": [
    "my_dict = {\n",
    "    \"name\": \"Suger\",\n",
    "    \"price\": 270.20,\n",
    "    \"weight\": \"1kg\",\n",
    "}\n",
    "\n",
    "#Removing the key value pair\n",
    "my_dict.pop(\"weight\")\n",
    "print(my_dict)\n",
    "\n",
    "#Removing the last key value pair\n",
    "del my_dict[\"price\"]\n",
    "print(my_dict)\n",
    "\n",
    "#Removing the entire dictionary\n",
    "del my_dict\n",
    "# print(my_dict) #Error: not defined\n",
    "\n",
    "my_dict = {\n",
    "    \"name\": \"Suger\", #(-item)\n",
    "    \"price\": 270.20,\n",
    "    \"weight\": \"1kg\",\n",
    "}\n",
    "\n",
    "#Clearing the dictionary\n",
    "my_dict.clear()\n",
    "print(my_dict)\n",
    "\n",
    "my_dict_1 = my_dict.copy()\n",
    "\n",
    "print(my_dict_1)\n"
   ]
  },
  {
   "cell_type": "code",
   "execution_count": null,
   "metadata": {},
   "outputs": [],
   "source": [
    "# X = 2^10\n",
    "\n",
    "y = 2 ** 10\n",
    "\n",
    "# print(x);\n",
    "print(y)\n",
    "\n",
    "y = 7/2\n",
    "print(y)\n",
    "\n",
    "y = 9//4\n",
    "print(y)\n",
    "\n",
    "y = 7%3\n",
    "print(y)"
   ]
  },
  {
   "cell_type": "code",
   "execution_count": null,
   "metadata": {},
   "outputs": [],
   "source": [
    "#logical operators\n",
    "x = 5\n",
    "y = 10\n",
    "\n",
    "print(x == y)\n",
    "print(x!=y)\n",
    "print(x<y)\n",
    "print(x>y)\n",
    "\n",
    "print(x < 10 and y < 8)\n",
    "print(x < 10 or y < 8)  "
   ]
  },
  {
   "cell_type": "code",
   "execution_count": null,
   "metadata": {},
   "outputs": [],
   "source": [
    "x = 5\n",
    "y = 6\n",
    "\n",
    "# Check if x and y refer to the same object in memory\n",
    "print(x is y) \n",
    "# Check if x and y do not refer to the same object in memory\n",
    "print(x is not y)\n"
   ]
  },
  {
   "cell_type": "code",
   "execution_count": null,
   "metadata": {},
   "outputs": [],
   "source": [
    "#Membership operators\n",
    "\n",
    "my_list = [8, 10, 12, 13, 15]\n",
    "\n",
    "# Check if 10 is present in the list\n",
    "print(10 in my_list) \n",
    "print(11 in my_list)\n",
    "\n",
    "x = 5\n",
    "y = 10\n",
    "\n",
    "print(x & y) "
   ]
  },
  {
   "cell_type": "code",
   "execution_count": null,
   "metadata": {},
   "outputs": [],
   "source": [
    "#if condition\n",
    "\n",
    "if(10 < 20):\n",
    "    print(\"Hello\")  \n"
   ]
  },
  {
   "cell_type": "code",
   "execution_count": null,
   "metadata": {},
   "outputs": [],
   "source": [
    "x = input(\"Enter a number: \")\n",
    "print(x)\n",
    "\n",
    "x = int(x)\n",
    "\n",
    "print(type(x))"
   ]
  },
  {
   "cell_type": "code",
   "execution_count": null,
   "metadata": {},
   "outputs": [],
   "source": [
    "#conditional statement\n",
    "\n",
    "x = input(\"enter a number: \")\n",
    "x = int(x)\n",
    "\n",
    "if(x % 2 == 0):\n",
    "    print(\"Even number\")\n",
    "else:\n",
    "    print(\"Odd number\")"
   ]
  },
  {
   "cell_type": "code",
   "execution_count": null,
   "metadata": {},
   "outputs": [],
   "source": [
    "x = input(\"input a number: \")\n",
    "x = int(x)\n",
    "\n",
    "if(x > 0):\n",
    "    if(x % 7 == 0):\n",
    "        print(\"Multiplication of 7\")\n",
    "    else:\n",
    "        print(\"Not a multiplication of 7\")\n",
    "else:\n",
    "    print(\"not a positive number\")"
   ]
  },
  {
   "cell_type": "code",
   "execution_count": null,
   "metadata": {},
   "outputs": [],
   "source": [
    "x = 3;\n",
    "y = 4\n",
    "\n",
    "if(x == y):\n",
    "    print(\"numbers are equal\")\n",
    "elif(x > y):\n",
    "    print(\"x is greater than y\")\n",
    "else:                                               \n",
    "    print(\"x is less than y\")"
   ]
  },
  {
   "cell_type": "code",
   "execution_count": null,
   "metadata": {},
   "outputs": [],
   "source": [
    "marks = input(\"Enter marks: \")\n",
    "marks = int(marks)\n",
    "\n",
    "if(marks > 100 or marks < 0):\n",
    "    print(\"Invalid marks\")\n",
    "elif(marks >= 85):\n",
    "    print(\"A\")\n",
    "elif(marks >= 75):\n",
    "    print(\"B\")\n",
    "elif(marks >= 65):\n",
    "    print(\"C\")\n",
    "elif(marks >= 50):\n",
    "    print(\"D\")\n",
    "else:\n",
    "    print(\"F\")\n"
   ]
  },
  {
   "cell_type": "code",
   "execution_count": null,
   "metadata": {},
   "outputs": [],
   "source": [
    "x = 10\n",
    "result = \"Even\" if x % 2 == 0 else \"Odd\" "
   ]
  },
  {
   "cell_type": "code",
   "execution_count": null,
   "metadata": {},
   "outputs": [],
   "source": [
    "my_list = [8, 10, 12, 9, 11, 15, 16]\n",
    "print(my_list[1:6])\n",
    "\n",
    "#slicing with step size 2 \n",
    "print(my_list[1:6:2]) \n",
    "\n",
    "#merging two dictionaries\n",
    "d_1 = {\n",
    "    'a': 1\n",
    "}\n",
    "\n",
    "d_2 = {\n",
    "    'b': 2\n",
    "}\n",
    "\n",
    "d_3 = d_1 | d_2\n",
    "print(len(d_3))\n",
    "print(d_3)"
   ]
  },
  {
   "cell_type": "code",
   "execution_count": null,
   "metadata": {},
   "outputs": [],
   "source": [
    "#unpacking - how to assing values from iterable to variables\n",
    "my_list_1=[10,12,7]\n",
    "\n",
    "#assigning values to variables\n",
    "x,y,z = my_list_1\n",
    "\n",
    "#displaying the values\n",
    "print(x,y,z)\n",
    "\n",
    "my_tuple_1 = (10, 20, 30)\n",
    "x, y, z = my_tuple_1\n",
    "print(x, y, z)"
   ]
  }
 ],
 "metadata": {
  "kernelspec": {
   "display_name": "Python 3",
   "language": "python",
   "name": "python3"
  },
  "language_info": {
   "name": "python",
   "version": "3.13.0"
  }
 },
 "nbformat": 4,
 "nbformat_minor": 2
}
