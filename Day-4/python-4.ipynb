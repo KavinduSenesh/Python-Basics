{
 "cells": [
  {
   "cell_type": "markdown",
   "metadata": {},
   "source": [
    "``markdown\n",
    "###Arbitrary Arguments\n",
    "\n",
    "In Python, you can use arbitrary arguments to allow a function to accept an arbitrary number of arguments. This is useful when you do not know in advance how many arguments will be passed to your function. \n",
    "\n",
    "To use arbitrary arguments, you prefix the argument name with an asterisk `*`. This collects the arguments into a tuple. Here is an example:\n",
    "\n",
    "```python\n",
    "def my_function(*args):\n",
    "    for arg in args:\n",
    "        print(arg)\n",
    "\n",
    "my_function(1, 2, 3, 4)\n",
    "```\n",
    "\n",
    "In this example, `my_function` can accept any number of arguments, and it will print each one.\n",
    "\n",
    "You can also use double asterisks `**` to collect keyword arguments into a dictionary:\n",
    "\n",
    "```python\n",
    "def my_function(**kwargs):\n",
    "    for key, value in kwargs.items():\n",
    "        print(f\"{key}: {value}\")\n",
    "\n",
    "my_function(name=\"Alice\", age=30)\n",
    "```\n",
    "\n",
    "In this example, `my_function` can accept any number of keyword arguments, and it will print each key-value pair.\n",
    "```"
   ]
  },
  {
   "cell_type": "code",
   "execution_count": null,
   "metadata": {},
   "outputs": [
    {
     "name": "stdout",
     "output_type": "stream",
     "text": [
      "(1, 2, 3, 4, 5) <class 'tuple'>\n"
     ]
    }
   ],
   "source": [
    "#here we are using *args to pass arbitrary number of positional arguments to the function\n",
    "#we use this when we are not sure how many arguments we will pass to the function\n",
    "\n",
    "def arbitrary_positional_arguments(*args): #tuple\n",
    "    print(args, type(args))\n",
    "\n",
    "arbitrary_positional_arguments(1, 2, 3, 4, 5)"
   ]
  },
  {
   "cell_type": "code",
   "execution_count": null,
   "metadata": {},
   "outputs": [
    {
     "name": "stdout",
     "output_type": "stream",
     "text": [
      "1\n",
      "2\n",
      "3\n",
      "4\n",
      "5\n"
     ]
    }
   ],
   "source": [
    "#here we are using *args to pass arbitrary number of positional arguments to the function\n",
    "\n",
    "def print_args(*args):\n",
    "    for arg in args:\n",
    "        print(arg)\n",
    "\n",
    "print_args(1, 2, 3, 4, 5)"
   ]
  },
  {
   "cell_type": "markdown",
   "metadata": {},
   "source": [
    "* write a python function call \"summerize_grades\" that accept a student name as a mandatory argument and an arbitrary number of grade scores. the function should, \n",
    "    1. print the student's name\n",
    "    2. calculate and print the highest grade, lowest grade and the average grade\n",
    "    from the provided scores\n",
    "    3. if no grades are provided you should print \"no grades available\""
   ]
  },
  {
   "cell_type": "code",
   "execution_count": null,
   "metadata": {},
   "outputs": [],
   "source": [
    "def summerize_grades(name, *marks):\n",
    "    if not marks: #here not means if marks is empty\n",
    "        print(\"No grades available for\", name)\n",
    "        return\n",
    "    print(\"Student name: \", name)\n",
    "    print(\"HIghest grade: \", max(marks))\n",
    "    print(\"Lowest grade: \", min(marks))\n",
    "    print(\"Average grade: \", int(sum(marks)/len(marks)))\n",
    "\n",
    "summerize_grades(\"John\", 90, 80, 70, 60, 50)\n",
    "summerize_grades(\"senesh\")"
   ]
  },
  {
   "cell_type": "markdown",
   "metadata": {},
   "source": [
    "```markdown\n",
    "### Arbitrary Keyword Arguments\n",
    "\n",
    "In Python, you can use arbitrary keyword arguments to allow a function to accept an arbitrary number of keyword arguments. This is useful when you do not know in advance which keyword arguments will be passed to your function.\n",
    "\n",
    "To use arbitrary keyword arguments, you prefix the argument name with double asterisks `**`. This collects the keyword arguments into a dictionary. Here is an example:\n",
    "\n",
    "```python\n",
    "def my_function(**kwargs):\n",
    "    for key, value in kwargs.items():\n",
    "        print(f\"{key}: {value}\")\n",
    "\n",
    "my_function(name=\"Alice\", age=30, city=\"New York\")\n",
    "```\n",
    "\n",
    "In this example, `my_function` can accept any number of keyword arguments, and it will print each key-value pair.\n",
    "```"
   ]
  },
  {
   "cell_type": "code",
   "execution_count": 7,
   "metadata": {},
   "outputs": [
    {
     "name": "stdout",
     "output_type": "stream",
     "text": [
      "name John\n",
      "age 25\n",
      "city New York\n"
     ]
    }
   ],
   "source": [
    "def arbitrary_keyword_arguments(**kwargs):\n",
    "    for key, value in kwargs.items():\n",
    "        print(key, value)\n",
    "\n",
    "arbitrary_keyword_arguments(name=\"John\", age=25, city=\"New York\")"
   ]
  },
  {
   "cell_type": "markdown",
   "metadata": {},
   "source": [
    "* write a python function call \"employee_info\" that accept a required name parameter and an arbitrary number of keyword arguments representing additional details about the employee.the function should, \n",
    "    1. print the employee's name\n",
    "    2. iterate through the keyword arguments and print each key-value pair in the format \"<key>:<value>\"\n",
    "    3. bonus Q - modify the employee_info function to return a dictionary containing all the employee details (including name & the additional attributes passed via kwargs) "
   ]
  },
  {
   "cell_type": "code",
   "execution_count": 11,
   "metadata": {},
   "outputs": [
    {
     "name": "stdout",
     "output_type": "stream",
     "text": [
      "Employee name:  John\n",
      "age 25\n",
      "city New York\n",
      "{'name': 'senes', 'age': 23, 'city': 'tangalle'}\n"
     ]
    }
   ],
   "source": [
    "def employee_details(name, **kwargs):\n",
    "    print(\"Employee name: \", name)\n",
    "    for key, value in kwargs.items():\n",
    "        print(key, value)\n",
    "\n",
    "    employee_details = {\"name\": \"senes\", \"age\": 23, \"city\": \"tangalle\"}\n",
    "    return employee_details\n",
    "\n",
    "print(employee_details(\"John\", age=25, city=\"New York\"))"
   ]
  },
  {
   "cell_type": "markdown",
   "metadata": {},
   "source": [
    "```markdown\n",
    "### Python Built-in Functions\n",
    "\n",
    "Python provides a rich set of built-in functions that are always available for use. These functions perform a variety of tasks and can be used without importing any additional modules. Here are some commonly used built-in functions:\n",
    "\n",
    "- `print()`: Prints the specified message to the console or other standard output device.\n",
    "- `len()`: Returns the length (the number of items) of an object.\n",
    "- `type()`: Returns the type of an object.\n",
    "- `int()`, `float()`, `str()`: Convert a value to an integer, float, or string, respectively.\n",
    "- `sum()`: Sums the items of an iterable.\n",
    "- `max()`, `min()`: Return the largest and smallest item in an iterable or among two or more arguments.\n",
    "- `sorted()`: Returns a new sorted list from the items in an iterable.\n",
    "- `range()`: Generates a sequence of numbers.\n",
    "- `input()`: Reads a line of input from the user.\n",
    "- `abs()`: Returns the absolute value of a number.\n",
    "- `round()`: Rounds a number to a specified number of decimal places.\n",
    "- `enumerate()`: Adds a counter to an iterable and returns it as an enumerate object.\n",
    "\n",
    "These functions are just a few examples of the many built-in functions available in Python. They can be used to perform a wide range of tasks and are an essential part of Python programming.\n",
    "```"
   ]
  },
  {
   "cell_type": "code",
   "execution_count": null,
   "metadata": {},
   "outputs": [
    {
     "name": "stdout",
     "output_type": "stream",
     "text": [
      "5\n"
     ]
    }
   ],
   "source": [
    "#absoolute value\n",
    "#we use this function to get the absolute value of a number\n",
    "\n",
    "def absolute_value(number):\n",
    "    if number < 0:\n",
    "        return abs(number)\n",
    "    else:\n",
    "        return number\n",
    "    \n",
    "print(absolute_value(-5))"
   ]
  },
  {
   "cell_type": "markdown",
   "metadata": {},
   "source": [
    "```markdown\n",
    "### `map()` Function\n",
    "\n",
    "The `map()` function in Python applies a given function to all items in an input list (or any other iterable) and returns a map object (which is an iterator). The syntax for `map()` is:\n",
    "\n",
    "```python\n",
    "map(function, iterable, ...)\n",
    "```\n",
    "\n",
    "- `function`: The function to apply to each item.\n",
    "- `iterable`: One or more iterables (e.g., list, tuple).\n",
    "\n",
    "Here is an example of using `map()`:\n",
    "\n",
    "```python\n",
    "def square(x):\n",
    "    return x ** 2\n",
    "\n",
    "numbers = [1, 2, 3, 4, 5]\n",
    "squared_numbers = map(square, numbers)\n",
    "\n",
    "print(list(squared_numbers))\n",
    "```\n",
    "\n",
    "In this example, the `square` function is applied to each item in the `numbers` list, resulting in a new list of squared numbers.\n",
    "\n",
    "You can also use lambda functions with `map()` for more concise code:\n",
    "\n",
    "```python\n",
    "numbers = [1, 2, 3, 4, 5]\n",
    "squared_numbers = map(lambda x: x ** 2, numbers)\n",
    "\n",
    "print(list(squared_numbers))\n",
    "```\n",
    "\n",
    "In this example, a lambda function is used to square each item in the `numbers` list.\n",
    "```"
   ]
  },
  {
   "cell_type": "code",
   "execution_count": 13,
   "metadata": {},
   "outputs": [
    {
     "name": "stdout",
     "output_type": "stream",
     "text": [
      "<map object at 0x000001E3E43B0790> <class 'map'>\n",
      "[1, 4, 9, 16, 25] <class 'map'>\n"
     ]
    }
   ],
   "source": [
    "#create a function to calculate the square of a number\n",
    "def cal_square(x):\n",
    "    return x**2\n",
    "\n",
    "my_list = [1, 2, 3, 4, 5]\n",
    "\n",
    "#using map function to calculate the square of each element in the list\n",
    "result = map(cal_square, my_list)\n",
    "\n",
    "print(result, type(result))\n",
    "print(list(result), type(result))"
   ]
  },
  {
   "cell_type": "code",
   "execution_count": 14,
   "metadata": {},
   "outputs": [
    {
     "name": "stdout",
     "output_type": "stream",
     "text": [
      "[11, 22, 33, 44, 55]\n"
     ]
    }
   ],
   "source": [
    "#map with multiple iterables\n",
    "def sum(x, y):\n",
    "    return x + y\n",
    "\n",
    "my_list1 = [1, 2, 3, 4, 5]\n",
    "my_list2 = [10, 20, 30, 40, 50]\n",
    "\n",
    "#using map function to calculate the sum of elements in the two lists\n",
    "result = map(sum, my_list1, my_list2)\n",
    "\n",
    "print(list(result))"
   ]
  },
  {
   "cell_type": "markdown",
   "metadata": {},
   "source": [
    "* You have a integers representing temperatures in celsius.\n",
    "temperatures = [20,30,25,40,15]\n",
    "write a python program using map() function to convert this temperatures into fahrenhite.\n",
    "\n",
    "use the formula :- Fahrenhite = celcius x 9/5 + 32"
   ]
  },
  {
   "cell_type": "code",
   "execution_count": 16,
   "metadata": {},
   "outputs": [
    {
     "name": "stdout",
     "output_type": "stream",
     "text": [
      "[50.0, 77.0, 96.8, 104.0, 136.4]\n"
     ]
    }
   ],
   "source": [
    "def cal_farenhite(celsius):\n",
    "    return celsius * 9/5 +32\n",
    "\n",
    "temperatures = [10, 25, 36, 40, 58]\n",
    "\n",
    "result = map(cal_farenhite, temperatures)\n",
    "\n",
    "print(list(result))"
   ]
  },
  {
   "cell_type": "markdown",
   "metadata": {},
   "source": [
    "```markdown\n",
    "### `filter()` Function\n",
    "\n",
    "The `filter()` function in Python is used to construct an iterator from elements of an iterable for which a function returns true. The syntax for `filter()` is:\n",
    "\n",
    "```python\n",
    "filter(function, iterable)\n",
    "```\n",
    "\n",
    "- `function`: A function that tests if each element of an iterable returns true or false.\n",
    "- `iterable`: An iterable like sets, lists, tuples, etc.\n",
    "\n",
    "Here is an example of using `filter()`:\n",
    "\n",
    "```python\n",
    "def is_even(n):\n",
    "    return n % 2 == 0\n",
    "\n",
    "numbers = [1, 2, 3, 4, 5, 6]\n",
    "even_numbers = filter(is_even, numbers)\n",
    "\n",
    "print(list(even_numbers))\n",
    "```\n",
    "\n",
    "In this example, the `is_even` function is applied to each item in the `numbers` list, and only the even numbers are included in the result.\n",
    "\n",
    "You can also use lambda functions with `filter()` for more concise code:\n",
    "\n",
    "```python\n",
    "numbers = [1, 2, 3, 4, 5, 6]\n",
    "even_numbers = filter(lambda x: x % 2 == 0, numbers)\n",
    "\n",
    "print(list(even_numbers))\n",
    "```\n",
    "\n",
    "In this example, a lambda function is used to filter out the even numbers from the `numbers` list.\n",
    "```"
   ]
  },
  {
   "cell_type": "code",
   "execution_count": 18,
   "metadata": {},
   "outputs": [
    {
     "name": "stdout",
     "output_type": "stream",
     "text": [
      "[2, 4, 6, 8, 10] <class 'filter'>\n"
     ]
    }
   ],
   "source": [
    "def check_even(x):\n",
    "    return x % 2 == 0\n",
    "\n",
    "my_list = [1, 2, 3, 4, 5, 6, 7, 8, 9, 10]\n",
    "\n",
    "even_numbers = filter(check_even, my_list)\n",
    "\n",
    "print(list(even_numbers), type(even_numbers))"
   ]
  },
  {
   "cell_type": "markdown",
   "metadata": {},
   "source": [
    "```markdown\n",
    "### Lambda Functions\n",
    "\n",
    "Lambda functions in Python are small anonymous functions defined using the `lambda` keyword. They can have any number of arguments but only one expression. The syntax for a lambda function is:\n",
    "\n",
    "```python\n",
    "lambda arguments: expression\n",
    "```\n",
    "\n",
    "Here is an example of a lambda function that adds 10 to a given number:\n",
    "\n",
    "```python\n",
    "add_ten = lambda x: x + 10\n",
    "print(add_ten(5))  # Output: 15\n",
    "```\n",
    "\n",
    "Lambda functions are often used with built-in functions like `map()`, `filter()`, and `sorted()`. Here are some examples:\n",
    "\n",
    "1. Using `lambda` with `map()`:\n",
    "\n",
    "```python\n",
    "numbers = [1, 2, 3, 4, 5]\n",
    "squared_numbers = map(lambda x: x ** 2, numbers)\n",
    "print(list(squared_numbers))  # Output: [1, 4, 9, 16, 25]\n",
    "```\n",
    "\n",
    "2. Using `lambda` with `filter()`:\n",
    "\n",
    "```python\n",
    "numbers = [1, 2, 3, 4, 5, 6]\n",
    "even_numbers = filter(lambda x: x % 2 == 0, numbers)\n",
    "print(list(even_numbers))  # Output: [2, 4, 6]\n",
    "```\n",
    "\n",
    "3. Using `lambda` with `sorted()`:\n",
    "\n",
    "```python\n",
    "points = [(1, 2), (3, 1), (5, -1), (2, 3)]\n",
    "sorted_points = sorted(points, key=lambda point: point[1])\n",
    "print(sorted_points)  # Output: [(5, -1), (3, 1), (1, 2), (2, 3)]\n",
    "```\n",
    "\n",
    "Lambda functions provide a concise way to create simple functions for short-term use.\n",
    "```"
   ]
  },
  {
   "cell_type": "markdown",
   "metadata": {},
   "source": [
    "* write a lambda function to return the power of 2 of a given number"
   ]
  },
  {
   "cell_type": "code",
   "execution_count": null,
   "metadata": {},
   "outputs": [],
   "source": [
    "result = (lambda x : x ** 2)(10);\n",
    "print(result);"
   ]
  },
  {
   "cell_type": "markdown",
   "metadata": {},
   "source": [
    "* write a python program that,\n",
    "    1. take a list of tuples where each tuple contains a name(String) & age(integer).\n",
    "    2. use a lambda function to filterout the tuples where the age is less than 18."
   ]
  },
  {
   "cell_type": "code",
   "execution_count": 26,
   "metadata": {},
   "outputs": [
    {
     "name": "stdout",
     "output_type": "stream",
     "text": [
      "[('John', 25), ('Senesh', 23), ('Saman', 30), ('Kamal', 35)]\n"
     ]
    }
   ],
   "source": [
    "people = [(\"John\", 25), (\"Senesh\", 23), (\"Saman\", 30), (\"Kamal\", 35)]\n",
    "\n",
    "filter_age = lambda people : people[1] >= 18\n",
    "\n",
    "filtered_people = filter(filter_age, people)\n",
    "\n",
    "print(list(filtered_people))"
   ]
  },
  {
   "cell_type": "code",
   "execution_count": 27,
   "metadata": {},
   "outputs": [
    {
     "name": "stdout",
     "output_type": "stream",
     "text": [
      "20\n"
     ]
    }
   ],
   "source": [
    "find_max = lambda x, y : x if x > y else y\n",
    "print(find_max(10, 20))"
   ]
  },
  {
   "cell_type": "code",
   "execution_count": null,
   "metadata": {
    "vscode": {
     "languageId": "markdown"
    }
   },
   "outputs": [],
   "source": [
    "### Modules and Packages\n",
    "\n",
    "In Python, a module is a file containing Python definitions and statements. A module can define functions, classes, and variables. It can also include runnable code. Grouping related code into a module makes the code easier to understand and use. It also provides a way to organize the code logically.\n",
    "\n",
    "#### Creating a Module\n",
    "\n",
    "To create a module, simply save the code you want in a file with the `.py` extension. For example, let's create a module named `mymodule.py`:\n"
   ]
  },
  {
   "cell_type": "code",
   "execution_count": null,
   "metadata": {
    "vscode": {
     "languageId": "markdown"
    }
   },
   "outputs": [],
   "source": [
    "```markdown\n",
    "### Recursive Functions\n",
    "\n",
    "A recursive function is a function that calls itself in order to solve a problem. The process of a function calling itself is known as recursion. Recursive functions are useful for solving problems that can be broken down into smaller, similar subproblems.\n",
    "\n",
    "#### Example of a Recursive Function\n",
    "\n",
    "Here is an example of a simple recursive function to calculate the factorial of a number:\n",
    "\n",
    "```python\n",
    "def factorial(n):\n",
    "    if n == 0:\n",
    "        return 1\n",
    "    else:\n",
    "        return n * factorial(n - 1)\n",
    "\n",
    "print(factorial(5))  # Output: 120\n",
    "```\n",
    "\n",
    "In this example, the `factorial` function calls itself with the argument `n - 1` until `n` is 0. The base case is when `n` is 0, at which point the function returns 1.\n",
    "\n",
    "#### Key Points to Remember\n",
    "\n",
    "1. **Base Case**: Every recursive function must have a base case that stops the recursion. Without a base case, the function will call itself indefinitely, leading to a stack overflow error.\n",
    "2. **Progress Towards Base Case**: Each recursive call should progress towards the base case. This ensures that the recursion will eventually terminate.\n",
    "3. **Stack Overflow**: Recursive functions use the call stack to keep track of function calls. If the recursion is too deep, it can lead to a stack overflow error.\n",
    "\n",
    "#### Example of a Recursive Function for Fibonacci Sequence\n",
    "\n",
    "Here is an example of a recursive function to calculate the nth Fibonacci number:\n",
    "\n",
    "```python\n",
    "def fibonacci(n):\n",
    "    if n <= 0:\n",
    "        return 0\n",
    "    elif n == 1:\n",
    "        return 1\n",
    "    else:\n",
    "        return fibonacci(n - 1) + fibonacci(n - 2)\n",
    "\n",
    "print(fibonacci(6))  # Output: 8\n",
    "```\n",
    "\n",
    "In this example, the `fibonacci` function calls itself with the arguments `n - 1` and `n - 2` until `n` is 0 or 1. The base cases are when `n` is 0 or 1, at which point the function returns 0 or 1, respectively.\n",
    "\n",
    "Recursive functions can be powerful tools for solving complex problems, but they should be used with care to avoid issues like stack overflow and infinite recursion.\n",
    "```"
   ]
  },
  {
   "cell_type": "code",
   "execution_count": 6,
   "metadata": {},
   "outputs": [
    {
     "name": "stdout",
     "output_type": "stream",
     "text": [
      "120\n",
      "40320\n"
     ]
    }
   ],
   "source": [
    "#factorial of a number\n",
    "def find_factorial(n):\n",
    "    factorial = 1  # Start with factorial = 1 (because multiplying by 1 doesn’t change anything)\n",
    "    if n == 0:  # If n is 0, we know the result is 1 by definition\n",
    "        return 1\n",
    "    else:\n",
    "        tmp = 1  # Start with tmp = 1\n",
    "        while tmp <= n:  # Loop from 1 up to n (including n)\n",
    "            factorial *= tmp  # Multiply factorial by the current number (tmp)\n",
    "            tmp += 1  # Move to the next number\n",
    "    return factorial  # Return the result after the loop ends\n",
    "\n",
    "print(find_factorial(5))\n",
    "\n",
    "#factorial of a number method 2\n",
    "def find_factorial(n):\n",
    "    factorial = 1\n",
    "    if n==0:\n",
    "        return 1\n",
    "    else:\n",
    "        for i in range(1, n+1):\n",
    "            factorial *= i\n",
    "        return factorial\n",
    "    \n",
    "print(find_factorial(8))\n"
   ]
  },
  {
   "cell_type": "code",
   "execution_count": 7,
   "metadata": {},
   "outputs": [
    {
     "name": "stdout",
     "output_type": "stream",
     "text": [
      "The factorial of 5 is 120\n"
     ]
    }
   ],
   "source": [
    "#find the factorial of a number using recursion\n",
    "def find_factorial(n):\n",
    "    if n == 0 | n == 1:\n",
    "        return 1\n",
    "    else:\n",
    "        return n * find_factorial(n-1)\n",
    "    \n",
    "num = 5\n",
    "print(\"The factorial of\", num, \"is\", find_factorial(num))"
   ]
  },
  {
   "cell_type": "code",
   "execution_count": 9,
   "metadata": {},
   "outputs": [
    {
     "name": "stdout",
     "output_type": "stream",
     "text": [
      "15\n",
      "0\n"
     ]
    }
   ],
   "source": [
    "#calculate the sum of all elements in a array list using recursion\n",
    "def sum_array(arr):\n",
    "    if len(arr) == 0:\n",
    "        return 0\n",
    "    else:\n",
    "        return (arr[0] + sum_array(arr[1:]))\n",
    "\n",
    "print(sum_array([1, 2, 3, 4, 5]))\n",
    "print(sum_array([])) "
   ]
  }
 ],
 "metadata": {
  "kernelspec": {
   "display_name": "Python 3",
   "language": "python",
   "name": "python3"
  },
  "language_info": {
   "codemirror_mode": {
    "name": "ipython",
    "version": 3
   },
   "file_extension": ".py",
   "mimetype": "text/x-python",
   "name": "python",
   "nbconvert_exporter": "python",
   "pygments_lexer": "ipython3",
   "version": "3.13.0"
  }
 },
 "nbformat": 4,
 "nbformat_minor": 2
}
